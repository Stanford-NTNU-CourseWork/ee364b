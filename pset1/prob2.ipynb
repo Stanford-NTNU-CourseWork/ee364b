{
 "cells": [
  {
   "cell_type": "code",
   "execution_count": 2,
   "metadata": {},
   "outputs": [
    {
     "name": "stdout",
     "output_type": "stream",
     "text": [
      "tensor([0.])\n"
     ]
    }
   ],
   "source": [
    "import torch\n",
    "x = torch.tensor([0.], requires_grad=True)\n",
    "zero = torch.tensor([0.])\n",
    "f = torch.square(torch.max(x,zero))\n",
    "f.backward()\n",
    "print(x.grad) #prints the gradient of f with respect to x at its current value"
   ]
  },
  {
   "cell_type": "code",
   "execution_count": 3,
   "metadata": {},
   "outputs": [
    {
     "name": "stdout",
     "output_type": "stream",
     "text": [
      "tensor([1.])\n"
     ]
    }
   ],
   "source": [
    "x = torch.tensor([0.], requires_grad=True)\n",
    "zero = torch.tensor([0.])\n",
    "f = torch.min(x, zero) + torch.max(x,zero)\n",
    "f.backward()\n",
    "print(x.grad) #prints the gradient of f with respect to x at its current value"
   ]
  },
  {
   "cell_type": "code",
   "execution_count": 5,
   "metadata": {},
   "outputs": [
    {
     "name": "stdout",
     "output_type": "stream",
     "text": [
      "tensor([1.])\n"
     ]
    }
   ],
   "source": [
    "x = torch.tensor([1e-50], requires_grad=True)\n",
    "zero = torch.tensor([0.])\n",
    "f = torch.min(x, zero) + torch.max(x,zero)\n",
    "f.backward()\n",
    "print(x.grad) #prints the gradient of f with respect to x at its current value"
   ]
  },
  {
   "cell_type": "code",
   "execution_count": 6,
   "metadata": {},
   "outputs": [
    {
     "name": "stdout",
     "output_type": "stream",
     "text": [
      "tensor([1.])\n"
     ]
    }
   ],
   "source": [
    "x = torch.tensor([1e-30], requires_grad=True)\n",
    "zero = torch.tensor([0.])\n",
    "f = torch.min(x, zero) + torch.max(x,zero)\n",
    "f.backward()\n",
    "print(x.grad) #prints the gradient of f with respect to x at its current value"
   ]
  },
  {
   "cell_type": "code",
   "execution_count": 8,
   "metadata": {},
   "outputs": [
    {
     "name": "stdout",
     "output_type": "stream",
     "text": [
      "tensor([0.5000])\n"
     ]
    }
   ],
   "source": [
    "x = torch.tensor([0.], requires_grad=True)\n",
    "zero = torch.tensor([0.])\n",
    "f = torch.min(torch.abs(x), x)\n",
    "f.backward()\n",
    "print(x.grad) #prints the gradient of f with respect to x at its current value"
   ]
  },
  {
   "cell_type": "code",
   "execution_count": null,
   "metadata": {},
   "outputs": [],
   "source": [
    "x = torch.tensor([0.], requires_grad=True)\n",
    "zero = torch.tensor([0.])\n",
    "f = torch.min(x, torch.abs(x))\n",
    "f.backward()\n",
    "print(x.grad) #prints the gradient of f with respect to x at its current value"
   ]
  },
  {
   "cell_type": "code",
   "execution_count": null,
   "metadata": {},
   "outputs": [],
   "source": []
  }
 ],
 "metadata": {
  "interpreter": {
   "hash": "72ce1191ce3909a68505dc8a224827bd9d137199906b30e93c5f76f93dfae9a7"
  },
  "kernelspec": {
   "display_name": "Python 3.9.11 ('ee364')",
   "language": "python",
   "name": "python3"
  },
  "language_info": {
   "codemirror_mode": {
    "name": "ipython",
    "version": 3
   },
   "file_extension": ".py",
   "mimetype": "text/x-python",
   "name": "python",
   "nbconvert_exporter": "python",
   "pygments_lexer": "ipython3",
   "version": "3.9.12"
  },
  "orig_nbformat": 4
 },
 "nbformat": 4,
 "nbformat_minor": 2
}

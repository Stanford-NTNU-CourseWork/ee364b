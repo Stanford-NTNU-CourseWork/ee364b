{
 "cells": [
  {
   "cell_type": "code",
   "execution_count": 9,
   "metadata": {},
   "outputs": [],
   "source": [
    "# EE364b Convex Optimization II Homework 1. Spring 2022\n",
    "# Distributed Subgradient Calculation using Dask\n",
    "from time import time\n",
    "\n",
    "import dask\n",
    "import matplotlib.pyplot as plt\n",
    "import numpy as np\n",
    "def inprod(x, y):\n",
    "    return np.dot(x,y)\n",
    "n, m = 10000000, 4\n",
    "trials_count = 10\n",
    "\n",
    "#generate a1, ..., am in Rn randomly\n",
    "def generate_data(m, n):\n",
    "\n",
    "    data = np.random.randn(m,n)\n",
    "    x= np.random.randn(n)\n",
    "    return data, x\n",
    "def compute_subgradient(data, x):\n",
    "    output = []\n",
    "\n",
    "    for i in range(data.shape[0]):\n",
    "        output.append(inprod(data[i,:],x))\n",
    "    index = np.argmax(output)\n",
    "\n",
    "\n"
   ]
  },
  {
   "cell_type": "code",
   "execution_count": 13,
   "metadata": {},
   "outputs": [
    {
     "data": {
      "image/png": "[encoded data removed]",
      "text/plain": [
       "<Figure size 432x288 with 1 Axes>"
      ]
     },
     "metadata": {
      "needs_background": "light"
     },
     "output_type": "display_data"
    }
   ],
   "source": [
    "timings = []\n",
    "for i in range(trials_count):\n",
    "\n",
    "    start = time()\n",
    "    data, x = generate_data(m,n)\n",
    "    compute_subgradient(data, x)\n",
    "    end = time()\n",
    "    timings.append(end-start)\n",
    "\n",
    "# generate x in Rn \n",
    "plt.hist(timings, bins=10)\n",
    "plt.show()"
   ]
  },
  {
   "cell_type": "code",
   "execution_count": 21,
   "metadata": {},
   "outputs": [],
   "source": [
    "def compute_subgradient_dask(data, x, visualize=False):\n",
    "    output = []\n",
    "\n",
    "    for i in range(data.shape[0]):\n",
    "        res = dask.delayed(inprod)(data[i,:],x)\n",
    "        output.append(res)\n",
    "    index = dask.delayed(np.argmax)(output)\n",
    "    if visualize:\n",
    "        \n",
    "        index.visualize()\n"
   ]
  },
  {
   "cell_type": "code",
   "execution_count": 22,
   "metadata": {},
   "outputs": [
    {
     "data": {
      "image/png": "[encoded data removed]",
      "text/plain": [
       "<Figure size 432x288 with 1 Axes>"
      ]
     },
     "metadata": {
      "needs_background": "light"
     },
     "output_type": "display_data"
    }
   ],
   "source": [
    "timings = []\n",
    "for i in range(trials_count):\n",
    "\n",
    "    start = time()\n",
    "    data, x = generate_data(m,n)\n",
    "    #data = dask.delayed(np.random.randn)(m,n)\n",
    "    #x= dask.delayed(np.random.randn)(n)\n",
    "    compute_subgradient_dask(data, x, True)\n",
    "    end = time()\n",
    "    timings.append(end-start)\n",
    "\n",
    "# generate x in Rn \n",
    "plt.hist(timings, bins=10)\n",
    "plt.show()\n"
   ]
  },
  {
   "cell_type": "code",
   "execution_count": 15,
   "metadata": {},
   "outputs": [],
   "source": [
    "import numpy as np\n",
    "def compute_subgradient_numpy(data, x):\n",
    "    output = np.zeros((data.shape[0]))\n",
    "    output = np.matmul(data, x)\n",
    "    index = np.argmax(output)"
   ]
  },
  {
   "cell_type": "code",
   "execution_count": null,
   "metadata": {},
   "outputs": [],
   "source": [
    "timings = []\n",
    "data, x = generate_data(n=5, m=4)\n",
    "\n",
    "dask.delayed(compute_subgradient)(data, x)\n"
   ]
  }
 ],
 "metadata": {
  "interpreter": {
   "hash": "72ce1191ce3909a68505dc8a224827bd9d137199906b30e93c5f76f93dfae9a7"
  },
  "kernelspec": {
   "display_name": "Python 3.9.11 ('ee364')",
   "language": "python",
   "name": "python3"
  },
  "language_info": {
   "codemirror_mode": {
    "name": "ipython",
    "version": 3
   },
   "file_extension": ".py",
   "mimetype": "text/x-python",
   "name": "python",
   "nbconvert_exporter": "python",
   "pygments_lexer": "ipython3",
   "version": "3.9.11"
  },
  "orig_nbformat": 4
 },
 "nbformat": 4,
 "nbformat_minor": 2
}
